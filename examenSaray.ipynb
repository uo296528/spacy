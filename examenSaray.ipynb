{
 "cells": [
  {
   "cell_type": "markdown",
   "metadata": {},
   "source": [
    "Ejercicio 1"
   ]
  },
  {
   "cell_type": "code",
   "execution_count": 124,
   "metadata": {},
   "outputs": [],
   "source": [
    "import spacy\n",
    "from spacy.matcher import PhraseMatcher\n",
    "from spacy.tokens import Span\n",
    "\n",
    "# Definir la lista de hechizos\n",
    "hechizos = [\"Alohomora\", \"Expecto patronum\", \"Expelliarmus\", \"Lumos\"]\n",
    "\n",
    "# Cargar el modelo de spaCy\n",
    "nlp = spacy.load(\"es_core_news_md\")\n",
    "\n",
    "# Aumentar el límite de longitud\n",
    "nlp.max_length = 2000000  # Aumentamos el límite a 2 millones de caracteres\n",
    "\n",
    "# Paso 1: Crear el componente de detección de hechizos\n",
    "@spacy.language.Language.component(\"detectar_hechizos\")\n",
    "def detectar_hechizos(doc):\n",
    "    # Crear el PhraseMatcher\n",
    "    matcher = PhraseMatcher(nlp.vocab, attr=\"LOWER\")\n",
    "    \n",
    "    # Convertir los hechizos en patrones\n",
    "    patterns = [nlp.make_doc(hechizo) for hechizo in hechizos]\n",
    "    \n",
    "    # Añadir los patrones al matcher\n",
    "    matcher.add(\"HECHIZOS\", None, *patterns)\n",
    "    \n",
    "    # Buscar coincidencias\n",
    "    matches = matcher(doc)\n",
    "    \n",
    "    # Crear las entidades para los hechizos encontrados\n",
    "    hechizos_detectados = [Span(doc, start, end, label=\"HECHIZO\") for _, start, end in matches]\n",
    "    \n",
    "    # Filtrar las entidades existentes para evitar solapamientos\n",
    "    existing_ents = set(doc.ents)\n",
    "    \n",
    "    # Filtrar hechizos detectados para eliminar los que ya están en las entidades existentes\n",
    "    hechizos_detectados_filtrados = [\n",
    "        hechizo for hechizo in hechizos_detectados\n",
    "        if not any(hechizo.start >= ent.start and hechizo.end <= ent.end for ent in existing_ents)\n",
    "    ]\n",
    "    \n",
    "    # Añadir las entidades filtradas al doc\n",
    "    doc.ents = list(doc.ents) + hechizos_detectados_filtrados\n",
    "    \n",
    "    return doc\n",
    "\n",
    "# Añadir el componente al pipeline\n",
    "nlp.add_pipe(\"detectar_hechizos\", last=True)\n",
    "\n",
    "# Cargar el texto de los libros desde los archivos\n",
    "def cargar_texto_libro(ruta_archivo):\n",
    "    \"\"\"Carga el texto de un archivo, comenzando desde la línea 36 (índice 35)\"\"\"\n",
    "    with open(ruta_archivo, \"r\", encoding=\"utf-8\") as f:\n",
    "        lineas = f.readlines()\n",
    "        texto = \"\".join(lineas[35:])  # índice 35 = línea 36 (empieza desde 0)\n",
    "    return texto\n",
    "\n",
    "# Ruta a los archivos de los libros\n",
    "ruta_libro_2 = \"J.K. Rowling - Harry Potter 2 - La Cámara Secreta.txt\"\n",
    "ruta_libro_7 = \"J.K. Rowling - Harry Potter 7 - Las Reliquias de la Muerte.txt\"\n",
    "\n",
    "# Cargar los textos de los libros\n",
    "texto_libro_2 = cargar_texto_libro(ruta_libro_2)\n",
    "texto_libro_7 = cargar_texto_libro(ruta_libro_7)\n"
   ]
  },
  {
   "cell_type": "code",
   "execution_count": 115,
   "metadata": {},
   "outputs": [
    {
     "name": "stdout",
     "output_type": "stream",
     "text": [
      "\n",
      "1\n",
      "    \n",
      "El peor cumpleaños\n",
      "\n",
      "\n",
      "No era la primera vez que en el número 4 de Privet Drive estallaba una discusión durante el desayuno. A primera hora de la mañana, había despertado al señor Vernon Dursley un sonoro ulular procedente del dormitorio de su sobrino Harry.\n",
      "¡Es la tercera vez esta semana! se quejó, sentado a la mesa. ¡Si no puedes dominar a esa lechuza, tendrá que irse a otra parte!\n",
      "Harry intentó explicarse una vez más.\n",
      "Es que se aburre. Está acostumbrada a dar una vuelta por ahí. Si pudiera dejarla salir aunque sólo fuera de noche...\n",
      "¿Acaso tengo cara de idiota? gruñó tío Vernon, con restos de huevo frito en el poblado bigote. Ya sé lo que ocurriría si saliera la lechuza.\n",
      "Cambió una mirada sombría con su esposa, Petunia.\n",
      "Harry quería seguir discutiendo, pero un eructo estruendoso y prolongado de Dudley, el hijo de los Dursley, ahogó sus palabras.\n",
      "¡Quiero más beicon!\n",
      "Queda más en la sartén, ricura dijo tía Petunia, volviendo los ojos a su robusto hijo. Tenemos que ali\n"
     ]
    }
   ],
   "source": [
    "print(texto_libro_2[:1000])"
   ]
  },
  {
   "cell_type": "code",
   "execution_count": 116,
   "metadata": {},
   "outputs": [
    {
     "name": "stdout",
     "output_type": "stream",
     "text": [
      "\n",
      "      Los dos hombres aparecieron de la nada, a unos cuántos metros de un camino angosto e iluminado por la luna. Por un segundo se quedaron quietos, las varitas apuntando directamente al pecho de uno y otro; entonces, reconociéndose mutuamente, guardaron sus varitas dentro de sus capas y comenzaron a caminar a buen paso en la misma dirección. \n",
      "\n",
      "      -¿Noticias? - Preguntó el más alto de los dos.\n",
      "\n",
      "      -Las mejores, - replicó Severus Snape.\n",
      "\n",
      "      El camino estaba bordeado a la izquierda por plantas silvestres y zarzas a medio crecer, a la derecha por setos altos y perfectamente cortados. Las capas de los hombres se agitaban alrededor de sus tobillos mientras caminaban.\n",
      "\n",
      "      -Pensé que íbamos tarde, - dijo Yaxley, sus toscos rasgos se escondían y mostraban mientras las ramas que sobresalían de los árboles bloqueaban la luz de luna. -Fue un poco más difícil de lo que pensé. Pero espero que vaya a quedar satisfecho. ¿Confías en que tu recibimiento será bueno?\n",
      "\n",
      "      Snape asintió, p\n"
     ]
    }
   ],
   "source": [
    "print(texto_libro_7[:1000])"
   ]
  },
  {
   "cell_type": "code",
   "execution_count": 117,
   "metadata": {},
   "outputs": [],
   "source": [
    "# Procesar los textos con spaCy\n",
    "doc2 = nlp(texto_libro_2)\n",
    "doc7 = nlp(texto_libro_7)\n"
   ]
  },
  {
   "cell_type": "code",
   "execution_count": 119,
   "metadata": {},
   "outputs": [
    {
     "name": "stdout",
     "output_type": "stream",
     "text": [
      "\n",
      "--> Libro 2:\n",
      "HECHIZO: 1\n",
      "Tipo: hechizo\n",
      "    lumos: 1\n",
      "\n",
      "--> Libro 7:\n",
      "HECHIZO: 7\n",
      "Tipo: hechizo\n",
      "    expelliarmus: 6\n",
      "    lumos: 1\n"
     ]
    }
   ],
   "source": [
    "# Recorremos los documentos y mostramos la cantidad de hechizos por tipo\n",
    "for i, doc in [(2, doc2), (7, doc7)]:\n",
    "    print(f\"\\n--> Libro {i}:\")\n",
    "    \n",
    "    # Crear un diccionario para contar las entidades HECHIZO\n",
    "    hechizos_por_tipo = {}\n",
    "    \n",
    "    # Contar las entidades de tipo \"HECHIZO\"\n",
    "    for ent in doc.ents:\n",
    "        if ent.label_ == \"HECHIZO\":\n",
    "            hechizos_por_tipo[ent.text.lower()] = hechizos_por_tipo.get(ent.text.lower(), 0) + 1\n",
    "    \n",
    "    # Imprimir la cantidad total de hechizos\n",
    "    total_hechizos = sum(hechizos_por_tipo.values())\n",
    "    print(f\"HECHIZO: {total_hechizos}\")\n",
    "    \n",
    "    # Imprimir los hechizos y su frecuencia por tipo\n",
    "    print(\"Tipo: hechizo\")\n",
    "    for hechizo, cantidad in sorted(hechizos_por_tipo.items()):\n",
    "        print(f\"    {hechizo}: {cantidad}\")\n"
   ]
  },
  {
   "cell_type": "code",
   "execution_count": null,
   "metadata": {},
   "outputs": [],
   "source": []
  },
  {
   "cell_type": "code",
   "execution_count": 127,
   "metadata": {},
   "outputs": [
    {
     "name": "stdout",
     "output_type": "stream",
     "text": [
      "FRASE 1\n",
      "Lanzó expeliarmus para defenderse.\n",
      "\n",
      "FRASE 2\n",
      "Como no dio resultado gritó \"¡ALOHOMORA!, quería abriur la puerta y esconderse en la Sala de los Menesteres.\n",
      "\n"
     ]
    },
    {
     "data": {
      "text/html": [
       "<!DOCTYPE html>\n",
       "<html lang=\"es\">\n",
       "    <head>\n",
       "        <title>displaCy</title>\n",
       "    </head>\n",
       "\n",
       "    <body style=\"font-size: 16px; font-family: -apple-system, BlinkMacSystemFont, 'Segoe UI', Helvetica, Arial, sans-serif, 'Apple Color Emoji', 'Segoe UI Emoji', 'Segoe UI Symbol'; padding: 4rem 2rem; direction: ltr\">\n",
       "<figure style=\"margin-bottom: 6rem\">\n",
       "<div class=\"entities\" style=\"line-height: 2.5; direction: ltr\">Lanzó expeliarmus para defenderse. Como no dio resultado gritó &quot;¡\n",
       "<mark class=\"entity\" style=\"background: #ddd; padding: 0.45em 0.6em; margin: 0 0.25em; line-height: 1; border-radius: 0.35em;\">\n",
       "    ALOHOMORA\n",
       "    <span style=\"font-size: 0.8em; font-weight: bold; line-height: 1; border-radius: 0.35em; vertical-align: middle; margin-left: 0.5rem\">HECHIZO</span>\n",
       "</mark>\n",
       "!, quería abriur la puerta y esconderse en la \n",
       "<mark class=\"entity\" style=\"background: #ff9561; padding: 0.45em 0.6em; margin: 0 0.25em; line-height: 1; border-radius: 0.35em;\">\n",
       "    Sala de los Menesteres\n",
       "    <span style=\"font-size: 0.8em; font-weight: bold; line-height: 1; border-radius: 0.35em; vertical-align: middle; margin-left: 0.5rem\">LOC</span>\n",
       "</mark>\n",
       ".</div>\n",
       "</figure>\n",
       "</body>\n",
       "</html>"
      ],
      "text/plain": [
       "<IPython.core.display.HTML object>"
      ]
     },
     "metadata": {},
     "output_type": "display_data"
    }
   ],
   "source": [
    "import spacy\n",
    "from spacy import displacy\n",
    "from IPython.display import display, HTML  # Importamos display y HTML manualmente\n",
    "\n",
    "\n",
    "# Texto de ejemplo\n",
    "texto = \"\"\"Lanzó expeliarmus para defenderse. Como no dio resultado gritó \"¡ALOHOMORA!, quería abriur la puerta y esconderse en la Sala de los Menesteres.\"\"\"\n",
    "\n",
    "# Procesar el texto con el modelo nlp\n",
    "doc = nlp(texto)\n",
    "\n",
    "# Fragmentar el texto en frases e imprimirlas\n",
    "for i, sent in enumerate(doc.sents, 1):\n",
    "    print(f\"FRASE {i}\")\n",
    "    print(sent.text)\n",
    "    print()  # Salto de línea para separar las frases\n",
    "\n",
    "# Renderizar el texto con las dependencias (en lugar de entidades)\n",
    "html = displacy.render(doc, style=\"ent\", page=True, jupyter=False)\n",
    "\n",
    "# Mostrar en Jupyter o fuera de él\n",
    "display(HTML(html))\n"
   ]
  },
  {
   "cell_type": "markdown",
   "metadata": {},
   "source": [
    "Ejercicio 2"
   ]
  },
  {
   "cell_type": "markdown",
   "metadata": {},
   "source": [
    "> apartado 1)"
   ]
  },
  {
   "cell_type": "code",
   "execution_count": 71,
   "metadata": {},
   "outputs": [],
   "source": [
    "#@Language.component\n",
    "\n",
    "import spacy\n",
    "from spacy.tokens import Span, Doc\n",
    "from spacy.language import Language\n",
    "import re\n",
    "\n",
    "# Definimos las extensiones personalizadas para Span\n",
    "Span.set_extension(\"numero\", default=None, force=True)\n",
    "Span.set_extension(\"titulo\", default=None, force=True)\n",
    "Span.set_extension(\"longitud\", default=None, force=True)\n",
    "Span.set_extension(\"contenido\", default=None, force=True)\n",
    "\n",
    "# Definimos la extensión para Doc\n",
    "Doc.set_extension(\"capitulos\", default=[], force=True)\n",
    "\n",
    "# Componente que fragmenta los capítulos\n",
    "@Language.component(\"fragmentador_capitulos\")\n",
    "def fragmentador_capitulos(doc):\n",
    "    patron_capitulo = re.finditer(r'\\n+(\\d+)\\s*\\n+([^\\n]+)', doc.text)\n",
    "    capitulos = []  # Lista para almacenar los capítulos\n",
    "    \n",
    "    # # Procesar las coincidencias y crear los Spans\n",
    "    # for match in patron_capitulo:\n",
    "    #     numero = int(match.group(1))  # Número del capítulo\n",
    "    #     titulo = match.group(2).strip()  # Título del capítulo\n",
    "        \n",
    "    #     # Obtener la posición de inicio y fin del capítulo\n",
    "    #     start_char = match.start()\n",
    "    #     end_char = match.end()\n",
    "        \n",
    "    #     # Crear Span para el capítulo\n",
    "    #     span = doc.char_span(start_char, end_char, alignment_mode=\"expand\")\n",
    "        \n",
    "    #     if span:\n",
    "    #         span._.numero = numero\n",
    "    #         span._.titulo = titulo\n",
    "    #         span._.longitud = len(span)  # Número de tokens del capítulo\n",
    "    #         capitulos.append(span)\n",
    "    # CON LO COMENTADO NO NOS DIVIDÍA EL TEXTO DE LOS CAPÍTULOS (SOLO SE QUEDABA CON LOS TÍTULOS)\n",
    "\n",
    "\n",
    "    # Obtener posiciones de inicio y fin de cada capítulo\n",
    "    coincidencias = list(patron_capitulo)\n",
    "    for i, match in enumerate(coincidencias):\n",
    "        numero = match.group(1)\n",
    "        titulo = match.group(2)\n",
    "\n",
    "        start_char = match.start()\n",
    "        # end_char = coincidencias[i + 1].start() if i + 1 < len(coincidencias) else len(texto)\n",
    "        end_char = coincidencias[i + 1].start() if i + 1 < len(coincidencias) else len(doc.text)\n",
    "\n",
    "\n",
    "        span = doc.char_span(start_char, end_char, alignment_mode=\"expand\")\n",
    "\n",
    "        if span:\n",
    "            span._.numero = numero\n",
    "            span._.titulo = titulo\n",
    "            span._.longitud = len(span)\n",
    "\n",
    "            # Extraer solo el contenido del capítulo (sin número ni título)\n",
    "            cabecera_fin = match.end()\n",
    "            cuerpo = doc.char_span(cabecera_fin, end_char, alignment_mode=\"expand\")\n",
    "            span._.contenido = cuerpo.text if cuerpo else \"\"\n",
    "\n",
    "            capitulos.append(span)\n",
    "    \n",
    "    # Asignar la lista de capítulos al doc\n",
    "    doc._.capitulos = capitulos\n",
    "    return doc\n"
   ]
  },
  {
   "cell_type": "markdown",
   "metadata": {},
   "source": [
    "> apartado 2)"
   ]
  },
  {
   "cell_type": "markdown",
   "metadata": {},
   "source": [
    "LIBRO 1"
   ]
  },
  {
   "cell_type": "code",
   "execution_count": 72,
   "metadata": {},
   "outputs": [
    {
     "data": {
      "text/plain": [
       "<function __main__.fragmentador_capitulos(doc)>"
      ]
     },
     "execution_count": 72,
     "metadata": {},
     "output_type": "execute_result"
    }
   ],
   "source": [
    "nlp = spacy.load(\"es_core_news_md\") \n",
    "\n",
    "# Añadir el componente al pipeline de spaCy\n",
    "nlp.add_pipe(\"fragmentador_capitulos\", last=True)"
   ]
  },
  {
   "cell_type": "code",
   "execution_count": 73,
   "metadata": {},
   "outputs": [
    {
     "name": "stdout",
     "output_type": "stream",
     "text": [
      "\n",
      "\n",
      "\n",
      "1\n",
      "    \n",
      "El niño que vivió\n",
      "\n",
      "\n",
      "El señor y la señora Dursley, que vivían en el número 4 de Privet Drive, estaban orgullosos de decir que eran muy normales, afortunadamente. Eran las últimas personas que se esperaría encontrar relacionadas con algo extraño o misterioso, porque no estaban para tales tonterías.\n",
      "El señor Dursley era el director de una empresa llamada Grunnings, que fabricaba taladros. Era un hombre corpulento y rollizo, casi sin cuello, aunque con un bigote inmenso. La señora Dursley era delgada, rubia y tenía un cuello casi el doble de largo de lo habitual, lo que le resultaba muy útil, ya que pasaba la mayor parte del tiempo estirándolo por encima de la valla de los jardines para espiar a sus vecinos. Los Dursley tenían un hijo pequeño llamado Dudley, y para ellos no había un niño mejor que él.\n",
      "Los Dursley tenían todo lo que querían, pero también tenían un secreto, y su mayor temor era que lo descubriesen: no habrían soportado que se supiera lo de los Potter.\n",
      "La señora Pot\n"
     ]
    }
   ],
   "source": [
    "# Ruta al archivo (ajusta si está en otra carpeta)\n",
    "ruta_archivo = \"J.K. Rowling - Harry Potter 1 - La Piedra Filosofal.txt\"\n",
    "\n",
    "# Leer el archivo desde la línea 38 en adelante\n",
    "with open(ruta_archivo, \"r\", encoding=\"utf-8\") as f:\n",
    "    lineas = f.readlines()\n",
    "    texto1 = \"\".join(lineas[37:])  # índice 37 = línea 38 (empieza desde 0)\n",
    "\n",
    "print(texto1[:1000])  # Muestra los primeros 1000 caracteres para verificar"
   ]
  },
  {
   "cell_type": "code",
   "execution_count": 74,
   "metadata": {},
   "outputs": [],
   "source": [
    "doc1 = nlp(texto1)"
   ]
  },
  {
   "cell_type": "code",
   "execution_count": 75,
   "metadata": {},
   "outputs": [
    {
     "name": "stdout",
     "output_type": "stream",
     "text": [
      "Capítulo 1: El niño que vivió - 5609 tokens\n",
      "Capítulo 2: El vidrio que se desvaneció - 4172 tokens\n",
      "Capítulo 3: Las cartas de nadie - 4602 tokens\n",
      "Capítulo 4: El guardián de las llaves - 4500 tokens\n",
      "Capítulo 5: El callejón Diagon - 8144 tokens\n",
      "Capítulo 6: El viaje desde el andén nueve y tres cuartos - 7719 tokens\n",
      "Capítulo 7: El sombrero seleccionador - 5590 tokens\n",
      "Capítulo 8: El profesor de pociones - 3672 tokens\n",
      "Capítulo 9: El duelo a medianoche - 5935 tokens\n",
      "Capítulo 10: Halloween - 4998 tokens\n",
      "Capítulo 11: Quidditch - 4039 tokens\n",
      "Capítulo 12: El espejo de Oesed - 6516 tokens\n",
      "Capítulo 13: Nicolás Flamel - 3879 tokens\n",
      "Capítulo 14: Norberto, el ridgeback noruego - 4126 tokens\n",
      "Capítulo 15: El bosque prohibido - 6100 tokens\n",
      "Capítulo 16: A través de la trampilla - 7705 tokens\n",
      "Capítulo 17: El hombre con dos caras - 6788 tokens\n"
     ]
    }
   ],
   "source": [
    "# Verifica si se han detectado capítulos\n",
    "if doc1._.capitulos:\n",
    "    for capitulo in doc1._.capitulos:\n",
    "        print(f\"Capítulo {capitulo._.numero}: {capitulo._.titulo} - {capitulo._.longitud} tokens\")\n",
    "else:\n",
    "    print(\"No se detectaron capítulos.\")"
   ]
  },
  {
   "cell_type": "code",
   "execution_count": 76,
   "metadata": {},
   "outputs": [
    {
     "data": {
      "text/html": [
       "<div>\n",
       "<style scoped>\n",
       "    .dataframe tbody tr th:only-of-type {\n",
       "        vertical-align: middle;\n",
       "    }\n",
       "\n",
       "    .dataframe tbody tr th {\n",
       "        vertical-align: top;\n",
       "    }\n",
       "\n",
       "    .dataframe thead th {\n",
       "        text-align: right;\n",
       "    }\n",
       "</style>\n",
       "<table border=\"1\" class=\"dataframe\">\n",
       "  <thead>\n",
       "    <tr style=\"text-align: right;\">\n",
       "      <th></th>\n",
       "      <th>numero</th>\n",
       "      <th>titulo</th>\n",
       "      <th>longitud_tokens</th>\n",
       "      <th>texto</th>\n",
       "    </tr>\n",
       "  </thead>\n",
       "  <tbody>\n",
       "    <tr>\n",
       "      <th>0</th>\n",
       "      <td>1</td>\n",
       "      <td>El niño que vivió</td>\n",
       "      <td>5609</td>\n",
       "      <td>1\\n    \\nEl niño que vivió\\n\\n\\nEl señor y la ...</td>\n",
       "    </tr>\n",
       "    <tr>\n",
       "      <th>1</th>\n",
       "      <td>2</td>\n",
       "      <td>El vidrio que se desvaneció</td>\n",
       "      <td>4172</td>\n",
       "      <td>2\\n\\nEl vidrio que se desvaneció\\n\\n\\nHabían p...</td>\n",
       "    </tr>\n",
       "    <tr>\n",
       "      <th>2</th>\n",
       "      <td>3</td>\n",
       "      <td>Las cartas de nadie</td>\n",
       "      <td>4602</td>\n",
       "      <td>3\\n\\nLas cartas de nadie\\n\\n\\nLa fuga de la bo...</td>\n",
       "    </tr>\n",
       "    <tr>\n",
       "      <th>3</th>\n",
       "      <td>4</td>\n",
       "      <td>El guardián de las llaves</td>\n",
       "      <td>4500</td>\n",
       "      <td>4\\n\\nEl guardián de las llaves\\n\\n\\nBUM. Llama...</td>\n",
       "    </tr>\n",
       "    <tr>\n",
       "      <th>4</th>\n",
       "      <td>5</td>\n",
       "      <td>El callejón Diagon</td>\n",
       "      <td>8144</td>\n",
       "      <td>5\\n\\nEl callejón Diagon\\n\\n\\nHarry se despertó...</td>\n",
       "    </tr>\n",
       "    <tr>\n",
       "      <th>5</th>\n",
       "      <td>6</td>\n",
       "      <td>El viaje desde el andén nueve y tres cuartos</td>\n",
       "      <td>7719</td>\n",
       "      <td>6\\n\\nEl viaje desde el andén nueve y tres cuar...</td>\n",
       "    </tr>\n",
       "    <tr>\n",
       "      <th>6</th>\n",
       "      <td>7</td>\n",
       "      <td>El sombrero seleccionador</td>\n",
       "      <td>5590</td>\n",
       "      <td>7\\n\\nEl sombrero seleccionador\\n\\n\\nLa puerta ...</td>\n",
       "    </tr>\n",
       "    <tr>\n",
       "      <th>7</th>\n",
       "      <td>8</td>\n",
       "      <td>El profesor de pociones</td>\n",
       "      <td>3672</td>\n",
       "      <td>8\\n\\nEl profesor de pociones\\n\\n\\nAllí, mira....</td>\n",
       "    </tr>\n",
       "    <tr>\n",
       "      <th>8</th>\n",
       "      <td>9</td>\n",
       "      <td>El duelo a medianoche</td>\n",
       "      <td>5935</td>\n",
       "      <td>9\\n\\nEl duelo a medianoche\\n\\n\\nHarry nunca ha...</td>\n",
       "    </tr>\n",
       "    <tr>\n",
       "      <th>9</th>\n",
       "      <td>10</td>\n",
       "      <td>Halloween</td>\n",
       "      <td>4998</td>\n",
       "      <td>10\\n\\nHalloween\\n\\n\\nMalfoy no podía creer lo ...</td>\n",
       "    </tr>\n",
       "    <tr>\n",
       "      <th>10</th>\n",
       "      <td>11</td>\n",
       "      <td>Quidditch</td>\n",
       "      <td>4039</td>\n",
       "      <td>11\\n\\nQuidditch\\n\\n\\nCuando empezó el mes de n...</td>\n",
       "    </tr>\n",
       "    <tr>\n",
       "      <th>11</th>\n",
       "      <td>12</td>\n",
       "      <td>El espejo de Oesed</td>\n",
       "      <td>6516</td>\n",
       "      <td>12\\n\\nEl espejo de Oesed\\n\\n\\nSe acercaba la N...</td>\n",
       "    </tr>\n",
       "    <tr>\n",
       "      <th>12</th>\n",
       "      <td>13</td>\n",
       "      <td>Nicolás Flamel</td>\n",
       "      <td>3879</td>\n",
       "      <td>13\\n\\nNicolás Flamel\\n\\n\\nDumbledore había con...</td>\n",
       "    </tr>\n",
       "    <tr>\n",
       "      <th>13</th>\n",
       "      <td>14</td>\n",
       "      <td>Norberto, el ridgeback noruego</td>\n",
       "      <td>4126</td>\n",
       "      <td>14\\n\\nNorberto, el ridgeback noruego\\n\\n\\nSin ...</td>\n",
       "    </tr>\n",
       "    <tr>\n",
       "      <th>14</th>\n",
       "      <td>15</td>\n",
       "      <td>El bosque prohibido</td>\n",
       "      <td>6100</td>\n",
       "      <td>15\\n\\nEl bosque prohibido\\n\\n\\nLas cosas no po...</td>\n",
       "    </tr>\n",
       "    <tr>\n",
       "      <th>15</th>\n",
       "      <td>16</td>\n",
       "      <td>A través de la trampilla</td>\n",
       "      <td>7705</td>\n",
       "      <td>16\\n\\nA través de la trampilla\\n\\n\\nEn años ve...</td>\n",
       "    </tr>\n",
       "    <tr>\n",
       "      <th>16</th>\n",
       "      <td>17</td>\n",
       "      <td>El hombre con dos caras</td>\n",
       "      <td>6788</td>\n",
       "      <td>17\\n\\nEl hombre con dos caras\\n\\n\\nEra Quirrel...</td>\n",
       "    </tr>\n",
       "  </tbody>\n",
       "</table>\n",
       "</div>"
      ],
      "text/plain": [
       "   numero                                        titulo  longitud_tokens  \\\n",
       "0       1                             El niño que vivió             5609   \n",
       "1       2                   El vidrio que se desvaneció             4172   \n",
       "2       3                           Las cartas de nadie             4602   \n",
       "3       4                     El guardián de las llaves             4500   \n",
       "4       5                            El callejón Diagon             8144   \n",
       "5       6  El viaje desde el andén nueve y tres cuartos             7719   \n",
       "6       7                     El sombrero seleccionador             5590   \n",
       "7       8                       El profesor de pociones             3672   \n",
       "8       9                         El duelo a medianoche             5935   \n",
       "9      10                                     Halloween             4998   \n",
       "10     11                                     Quidditch             4039   \n",
       "11     12                            El espejo de Oesed             6516   \n",
       "12     13                                Nicolás Flamel             3879   \n",
       "13     14                Norberto, el ridgeback noruego             4126   \n",
       "14     15                           El bosque prohibido             6100   \n",
       "15     16                      A través de la trampilla             7705   \n",
       "16     17                       El hombre con dos caras             6788   \n",
       "\n",
       "                                                texto  \n",
       "0   1\\n    \\nEl niño que vivió\\n\\n\\nEl señor y la ...  \n",
       "1   2\\n\\nEl vidrio que se desvaneció\\n\\n\\nHabían p...  \n",
       "2   3\\n\\nLas cartas de nadie\\n\\n\\nLa fuga de la bo...  \n",
       "3   4\\n\\nEl guardián de las llaves\\n\\n\\nBUM. Llama...  \n",
       "4   5\\n\\nEl callejón Diagon\\n\\n\\nHarry se despertó...  \n",
       "5   6\\n\\nEl viaje desde el andén nueve y tres cuar...  \n",
       "6   7\\n\\nEl sombrero seleccionador\\n\\n\\nLa puerta ...  \n",
       "7   8\\n\\nEl profesor de pociones\\n\\n\\nAllí, mira....  \n",
       "8   9\\n\\nEl duelo a medianoche\\n\\n\\nHarry nunca ha...  \n",
       "9   10\\n\\nHalloween\\n\\n\\nMalfoy no podía creer lo ...  \n",
       "10  11\\n\\nQuidditch\\n\\n\\nCuando empezó el mes de n...  \n",
       "11  12\\n\\nEl espejo de Oesed\\n\\n\\nSe acercaba la N...  \n",
       "12  13\\n\\nNicolás Flamel\\n\\n\\nDumbledore había con...  \n",
       "13  14\\n\\nNorberto, el ridgeback noruego\\n\\n\\nSin ...  \n",
       "14  15\\n\\nEl bosque prohibido\\n\\n\\nLas cosas no po...  \n",
       "15  16\\n\\nA través de la trampilla\\n\\n\\nEn años ve...  \n",
       "16  17\\n\\nEl hombre con dos caras\\n\\n\\nEra Quirrel...  "
      ]
     },
     "execution_count": 76,
     "metadata": {},
     "output_type": "execute_result"
    }
   ],
   "source": [
    "import pandas as pd\n",
    "\n",
    "df = pd.DataFrame([{\n",
    "    \"numero\": cap._.numero,\n",
    "    \"titulo\": cap._.titulo,\n",
    "    \"longitud_tokens\": cap._.longitud,\n",
    "    \"texto\": cap.text.strip()\n",
    "} for cap in doc1._.capitulos])\n",
    "\n",
    "df   \n"
   ]
  },
  {
   "cell_type": "markdown",
   "metadata": {},
   "source": [
    "LIBRO 2"
   ]
  },
  {
   "cell_type": "code",
   "execution_count": 77,
   "metadata": {},
   "outputs": [
    {
     "name": "stdout",
     "output_type": "stream",
     "text": [
      "\n",
      "1\n",
      "    \n",
      "El peor cumpleaños\n",
      "\n",
      "\n",
      "No era la primera vez que en el número 4 de Privet Drive estallaba una discusión durante el desayuno. A primera hora de la mañana, había despertado al señor Vernon Dursley un sonoro ulular procedente del dormitorio de su sobrino Harry.\n",
      "¡Es la tercera vez esta semana! se quejó, sentado a la mesa. ¡Si no puedes dominar a esa lechuza, tendrá que irse a otra parte!\n",
      "Harry intentó explicarse una vez más.\n",
      "Es que se aburre. Está acostumbrada a dar una vuelta por ahí. Si pudiera dejarla salir aunque sólo fuera de noche...\n",
      "¿Acaso tengo cara de idiota? gruñó tío Vernon, con restos de huevo frito en el poblado bigote. Ya sé lo que ocurriría si saliera la lechuza.\n",
      "Cambió una mirada sombría con su esposa, Petunia.\n",
      "Harry quería seguir discutiendo, pero un eructo estruendoso y prolongado de Dudley, el hijo de los Dursley, ahogó sus palabras.\n",
      "¡Quiero más beicon!\n",
      "Queda más en la sartén, ricura dijo tía Petunia, volviendo los ojos a su robusto hijo. Tenemos que ali\n"
     ]
    }
   ],
   "source": [
    "# Ruta al archivo (ajusta si está en otra carpeta)\n",
    "ruta_archivo = \"J.K. Rowling - Harry Potter 2 - La Cámara Secreta.txt\"\n",
    "\n",
    "# Leer el archivo desde la línea 38 en adelante\n",
    "with open(ruta_archivo, \"r\", encoding=\"utf-8\") as f:\n",
    "    lineas = f.readlines()\n",
    "    texto2 = \"\".join(lineas[35:])  # índice 35 = línea 36 (empieza desde 0)\n",
    "\n",
    "print(texto2[:1000])  # Muestra los primeros 1000 caracteres para verificar"
   ]
  },
  {
   "cell_type": "code",
   "execution_count": 78,
   "metadata": {},
   "outputs": [],
   "source": [
    "doc2 = nlp(texto2)"
   ]
  },
  {
   "cell_type": "code",
   "execution_count": 79,
   "metadata": {},
   "outputs": [
    {
     "name": "stdout",
     "output_type": "stream",
     "text": [
      "Capítulo 1: El peor cumpleaños - 3313 tokens\n",
      "Capítulo 2: La advertencia de Dobby - 3840 tokens\n",
      "Capítulo 3: La Madriguera - 5832 tokens\n",
      "Capítulo 4: En Flourish y Blotts - 7522 tokens\n",
      "Capítulo 5: El sauce boxeador - 6900 tokens\n",
      "Capítulo 6: Gilderoy Lockhart - 5818 tokens\n",
      "Capítulo 7: Los «sangre sucia» y una voz misteriosa - 5783 tokens\n",
      "Capítulo 8: El cumpleaños de muerte - 5818 tokens\n",
      "Capítulo 9: La inscripción en el muro - 6563 tokens\n",
      "Capítulo 10: La «bludger» loca - 6693 tokens\n",
      "Capítulo 11: El club de duelo - 7595 tokens\n",
      "Capítulo 12: La poción «multijugos» - 6878 tokens\n",
      "Capítulo 13: El diario secretísimo - 7003 tokens\n",
      "Capítulo 14: Cornelius Fudge - 4895 tokens\n",
      "Capítulo 15: Aragog - 5789 tokens\n",
      "Capítulo 16: La Cámara de los Secretos - 7109 tokens\n",
      "Capítulo 17: El heredero de Slytherin - 6736 tokens\n",
      "Capítulo 18: La recompensa de Dobby - 4565 tokens\n"
     ]
    }
   ],
   "source": [
    "# Verifica si se han detectado capítulos\n",
    "if doc2._.capitulos:\n",
    "    for capitulo in doc2._.capitulos:\n",
    "        print(f\"Capítulo {capitulo._.numero}: {capitulo._.titulo} - {capitulo._.longitud} tokens\")\n",
    "else:\n",
    "    print(\"No se detectaron capítulos.\")"
   ]
  },
  {
   "cell_type": "code",
   "execution_count": 84,
   "metadata": {},
   "outputs": [
    {
     "data": {
      "text/html": [
       "<div>\n",
       "<style scoped>\n",
       "    .dataframe tbody tr th:only-of-type {\n",
       "        vertical-align: middle;\n",
       "    }\n",
       "\n",
       "    .dataframe tbody tr th {\n",
       "        vertical-align: top;\n",
       "    }\n",
       "\n",
       "    .dataframe thead th {\n",
       "        text-align: right;\n",
       "    }\n",
       "</style>\n",
       "<table border=\"1\" class=\"dataframe\">\n",
       "  <thead>\n",
       "    <tr style=\"text-align: right;\">\n",
       "      <th></th>\n",
       "      <th>numero</th>\n",
       "      <th>titulo</th>\n",
       "      <th>longitud_tokens</th>\n",
       "      <th>texto</th>\n",
       "    </tr>\n",
       "  </thead>\n",
       "  <tbody>\n",
       "    <tr>\n",
       "      <th>0</th>\n",
       "      <td>1</td>\n",
       "      <td>El peor cumpleaños</td>\n",
       "      <td>3313</td>\n",
       "      <td>1\\n    \\nEl peor cumpleaños\\n\\n\\nNo era la pri...</td>\n",
       "    </tr>\n",
       "    <tr>\n",
       "      <th>1</th>\n",
       "      <td>2</td>\n",
       "      <td>La advertencia de Dobby</td>\n",
       "      <td>3840</td>\n",
       "      <td>2\\n\\nLa advertencia de Dobby\\n\\n\\nHarry no gri...</td>\n",
       "    </tr>\n",
       "    <tr>\n",
       "      <th>2</th>\n",
       "      <td>3</td>\n",
       "      <td>La Madriguera</td>\n",
       "      <td>5832</td>\n",
       "      <td>3\\n\\nLa Madriguera\\n\\n\\n¡Ron! exclamó Harry,...</td>\n",
       "    </tr>\n",
       "    <tr>\n",
       "      <th>3</th>\n",
       "      <td>4</td>\n",
       "      <td>En Flourish y Blotts</td>\n",
       "      <td>7522</td>\n",
       "      <td>4\\n\\nEn Flourish y Blotts\\n\\n\\nLa vida en La M...</td>\n",
       "    </tr>\n",
       "    <tr>\n",
       "      <th>4</th>\n",
       "      <td>5</td>\n",
       "      <td>El sauce boxeador</td>\n",
       "      <td>6900</td>\n",
       "      <td>5\\n\\nEl sauce boxeador\\n\\n\\nEl final del veran...</td>\n",
       "    </tr>\n",
       "    <tr>\n",
       "      <th>5</th>\n",
       "      <td>6</td>\n",
       "      <td>Gilderoy Lockhart</td>\n",
       "      <td>5818</td>\n",
       "      <td>6\\n\\nGilderoy Lockhart\\n\\n\\nAl día siguiente, ...</td>\n",
       "    </tr>\n",
       "    <tr>\n",
       "      <th>6</th>\n",
       "      <td>7</td>\n",
       "      <td>Los «sangre sucia» y una voz misteriosa</td>\n",
       "      <td>5783</td>\n",
       "      <td>7\\n\\nLos «sangre sucia» y una voz misteriosa\\n...</td>\n",
       "    </tr>\n",
       "    <tr>\n",
       "      <th>7</th>\n",
       "      <td>8</td>\n",
       "      <td>El cumpleaños de muerte</td>\n",
       "      <td>5818</td>\n",
       "      <td>8\\n\\nEl cumpleaños de muerte\\n\\n\\nLlegó octubr...</td>\n",
       "    </tr>\n",
       "    <tr>\n",
       "      <th>8</th>\n",
       "      <td>9</td>\n",
       "      <td>La inscripción en el muro</td>\n",
       "      <td>6563</td>\n",
       "      <td>9\\n\\nLa inscripción en el muro\\n\\n\\n¿Qué pasa...</td>\n",
       "    </tr>\n",
       "    <tr>\n",
       "      <th>9</th>\n",
       "      <td>10</td>\n",
       "      <td>La «bludger» loca</td>\n",
       "      <td>6693</td>\n",
       "      <td>10\\n\\nLa «bludger» loca\\n\\n\\nDespués del desas...</td>\n",
       "    </tr>\n",
       "    <tr>\n",
       "      <th>10</th>\n",
       "      <td>11</td>\n",
       "      <td>El club de duelo</td>\n",
       "      <td>7595</td>\n",
       "      <td>11\\n\\nEl club de duelo\\n\\n\\nAl despertar Harry...</td>\n",
       "    </tr>\n",
       "    <tr>\n",
       "      <th>11</th>\n",
       "      <td>12</td>\n",
       "      <td>La poción «multijugos»</td>\n",
       "      <td>6878</td>\n",
       "      <td>12\\n\\nLa poción «multijugos»\\n\\n\\nDejaron la e...</td>\n",
       "    </tr>\n",
       "    <tr>\n",
       "      <th>12</th>\n",
       "      <td>13</td>\n",
       "      <td>El diario secretísimo</td>\n",
       "      <td>7003</td>\n",
       "      <td>13\\n\\nEl diario secretísimo\\n\\n\\nHermione pasó...</td>\n",
       "    </tr>\n",
       "    <tr>\n",
       "      <th>13</th>\n",
       "      <td>14</td>\n",
       "      <td>Cornelius Fudge</td>\n",
       "      <td>4895</td>\n",
       "      <td>14\\n\\nCornelius Fudge\\n\\n\\nHarry, Ron y Hermio...</td>\n",
       "    </tr>\n",
       "    <tr>\n",
       "      <th>14</th>\n",
       "      <td>15</td>\n",
       "      <td>Aragog</td>\n",
       "      <td>5789</td>\n",
       "      <td>15\\n\\nAragog\\n\\n\\nEl verano estaba a punto de ...</td>\n",
       "    </tr>\n",
       "    <tr>\n",
       "      <th>15</th>\n",
       "      <td>16</td>\n",
       "      <td>La Cámara de los Secretos</td>\n",
       "      <td>7109</td>\n",
       "      <td>16\\n\\nLa Cámara de los Secretos\\n\\n\\nCon la c...</td>\n",
       "    </tr>\n",
       "    <tr>\n",
       "      <th>16</th>\n",
       "      <td>17</td>\n",
       "      <td>El heredero de Slytherin</td>\n",
       "      <td>6736</td>\n",
       "      <td>17\\n\\nEl heredero de Slytherin\\n\\n\\nSe hallaba...</td>\n",
       "    </tr>\n",
       "    <tr>\n",
       "      <th>17</th>\n",
       "      <td>18</td>\n",
       "      <td>La recompensa de Dobby</td>\n",
       "      <td>4565</td>\n",
       "      <td>18\\n\\nLa recompensa de Dobby\\n\\n\\nHubo un mome...</td>\n",
       "    </tr>\n",
       "  </tbody>\n",
       "</table>\n",
       "</div>"
      ],
      "text/plain": [
       "   numero                                   titulo  longitud_tokens  \\\n",
       "0       1                       El peor cumpleaños             3313   \n",
       "1       2                  La advertencia de Dobby             3840   \n",
       "2       3                            La Madriguera             5832   \n",
       "3       4                     En Flourish y Blotts             7522   \n",
       "4       5                        El sauce boxeador             6900   \n",
       "5       6                        Gilderoy Lockhart             5818   \n",
       "6       7  Los «sangre sucia» y una voz misteriosa             5783   \n",
       "7       8                  El cumpleaños de muerte             5818   \n",
       "8       9                La inscripción en el muro             6563   \n",
       "9      10                        La «bludger» loca             6693   \n",
       "10     11                         El club de duelo             7595   \n",
       "11     12                   La poción «multijugos»             6878   \n",
       "12     13                    El diario secretísimo             7003   \n",
       "13     14                          Cornelius Fudge             4895   \n",
       "14     15                                   Aragog             5789   \n",
       "15     16                La Cámara de los Secretos             7109   \n",
       "16     17                 El heredero de Slytherin             6736   \n",
       "17     18                   La recompensa de Dobby             4565   \n",
       "\n",
       "                                                texto  \n",
       "0   1\\n    \\nEl peor cumpleaños\\n\\n\\nNo era la pri...  \n",
       "1   2\\n\\nLa advertencia de Dobby\\n\\n\\nHarry no gri...  \n",
       "2   3\\n\\nLa Madriguera\\n\\n\\n¡Ron! exclamó Harry,...  \n",
       "3   4\\n\\nEn Flourish y Blotts\\n\\n\\nLa vida en La M...  \n",
       "4   5\\n\\nEl sauce boxeador\\n\\n\\nEl final del veran...  \n",
       "5   6\\n\\nGilderoy Lockhart\\n\\n\\nAl día siguiente, ...  \n",
       "6   7\\n\\nLos «sangre sucia» y una voz misteriosa\\n...  \n",
       "7   8\\n\\nEl cumpleaños de muerte\\n\\n\\nLlegó octubr...  \n",
       "8   9\\n\\nLa inscripción en el muro\\n\\n\\n¿Qué pasa...  \n",
       "9   10\\n\\nLa «bludger» loca\\n\\n\\nDespués del desas...  \n",
       "10  11\\n\\nEl club de duelo\\n\\n\\nAl despertar Harry...  \n",
       "11  12\\n\\nLa poción «multijugos»\\n\\n\\nDejaron la e...  \n",
       "12  13\\n\\nEl diario secretísimo\\n\\n\\nHermione pasó...  \n",
       "13  14\\n\\nCornelius Fudge\\n\\n\\nHarry, Ron y Hermio...  \n",
       "14  15\\n\\nAragog\\n\\n\\nEl verano estaba a punto de ...  \n",
       "15  16\\n\\nLa Cámara de los Secretos\\n\\n\\nCon la c...  \n",
       "16  17\\n\\nEl heredero de Slytherin\\n\\n\\nSe hallaba...  \n",
       "17  18\\n\\nLa recompensa de Dobby\\n\\n\\nHubo un mome...  "
      ]
     },
     "execution_count": 84,
     "metadata": {},
     "output_type": "execute_result"
    }
   ],
   "source": [
    "import pandas as pd\n",
    "\n",
    "df = pd.DataFrame([{\n",
    "    \"numero\": cap._.numero,\n",
    "    \"titulo\": cap._.titulo,\n",
    "    \"longitud_tokens\": cap._.longitud,\n",
    "    \"texto\": cap.text.strip()\n",
    "} for cap in doc2._.capitulos])\n",
    "\n",
    "df   \n"
   ]
  },
  {
   "cell_type": "markdown",
   "metadata": {},
   "source": [
    "> apartado 3)"
   ]
  },
  {
   "cell_type": "code",
   "execution_count": 85,
   "metadata": {},
   "outputs": [
    {
     "name": "stdout",
     "output_type": "stream",
     "text": [
      "Piedra Filosofal\n",
      "Cámara Secreta\n"
     ]
    }
   ],
   "source": [
    "Doc.set_extension(\"titulo_libro\", default=None, force=True)\n",
    "# Títulos de los libros\n",
    "titulos_libros = [\"Piedra Filosofal\", \"Cámara Secreta\"]\n",
    "\n",
    "# Asignar a los documentos\n",
    "doc1._.titulo_libro = titulos_libros[0]\n",
    "doc2._.titulo_libro = titulos_libros[1]\n",
    "print(doc1._.titulo_libro)  # Piedra Filosofal\n",
    "print(doc2._.titulo_libro)  # Cámara Secreta\n"
   ]
  },
  {
   "cell_type": "markdown",
   "metadata": {},
   "source": [
    "> apartado 4)"
   ]
  },
  {
   "cell_type": "markdown",
   "metadata": {},
   "source": [
    "para doc1"
   ]
  },
  {
   "cell_type": "code",
   "execution_count": 86,
   "metadata": {},
   "outputs": [],
   "source": [
    "from spacy.tokens import Span\n",
    "\n",
    "# Buscar todas las apariciones de \"Hermione\" en el doc\n",
    "nuevas_entidades = []\n",
    "\n",
    "for token in doc1:\n",
    "    if token.text == \"Hermione\":\n",
    "        # Crear un Span de un solo token\n",
    "        span = Span(doc1, token.i, token.i + 1, label=\"PROTAGONISTA\")\n",
    "        nuevas_entidades.append(span)\n"
   ]
  },
  {
   "cell_type": "code",
   "execution_count": 88,
   "metadata": {},
   "outputs": [],
   "source": [
    "from spacy.util import filter_spans\n",
    "\n",
    "# Combinar y filtrar para eliminar solapamientos\n",
    "todas_las_entidades = list(doc1.ents) + nuevas_entidades\n",
    "doc1.ents = filter_spans(todas_las_entidades)\n"
   ]
  },
  {
   "cell_type": "code",
   "execution_count": 89,
   "metadata": {},
   "outputs": [
    {
     "name": "stdout",
     "output_type": "stream",
     "text": [
      "Hermione 45660 45661 PROTAGONISTA\n",
      "Hermione 58823 58824 PROTAGONISTA\n"
     ]
    }
   ],
   "source": [
    "for ent in doc1.ents:\n",
    "    if ent.label_ == \"PROTAGONISTA\":\n",
    "        print(ent.text, ent.start, ent.end, ent.label_)\n"
   ]
  },
  {
   "cell_type": "markdown",
   "metadata": {},
   "source": [
    "para doc2"
   ]
  },
  {
   "cell_type": "code",
   "execution_count": 92,
   "metadata": {},
   "outputs": [],
   "source": [
    "from spacy.tokens import Span\n",
    "\n",
    "# Buscar todas las apariciones de \"Hermione\" en el doc\n",
    "nuevas_entidades = []\n",
    "\n",
    "for token in doc2:\n",
    "    if token.text == \"Hermione\":\n",
    "        # Crear un Span de un solo token\n",
    "        span = Span(doc2, token.i, token.i + 1, label=\"PROTAGONISTA\")\n",
    "        nuevas_entidades.append(span)"
   ]
  },
  {
   "cell_type": "code",
   "execution_count": 93,
   "metadata": {},
   "outputs": [],
   "source": [
    "from spacy.util import filter_spans\n",
    "\n",
    "# Combinar y filtrar para eliminar solapamientos\n",
    "todas_las_entidades = list(doc2.ents) + nuevas_entidades\n",
    "doc2.ents = filter_spans(todas_las_entidades)\n"
   ]
  },
  {
   "cell_type": "code",
   "execution_count": 94,
   "metadata": {},
   "outputs": [],
   "source": [
    "for ent in doc2.ents:\n",
    "    if ent.label_ == \"PROTAGONISTA\":\n",
    "        print(ent.text, ent.start, ent.end, ent.label_)\n"
   ]
  },
  {
   "cell_type": "markdown",
   "metadata": {},
   "source": [
    "> apartado 5"
   ]
  },
  {
   "cell_type": "code",
   "execution_count": 95,
   "metadata": {},
   "outputs": [],
   "source": [
    "def contar_protagonistas(capitulo):\n",
    "    return sum(1 for ent in capitulo.ents if ent.label_ == \"PROTAGONISTA\")"
   ]
  },
  {
   "cell_type": "code",
   "execution_count": 96,
   "metadata": {},
   "outputs": [
    {
     "name": "stdout",
     "output_type": "stream",
     "text": [
      "Capítulo 1: El niño que vivió - 0 menciones de PROTAGONISTA\n",
      "Capítulo 2: El vidrio que se desvaneció - 0 menciones de PROTAGONISTA\n",
      "Capítulo 3: Las cartas de nadie - 0 menciones de PROTAGONISTA\n",
      "Capítulo 4: El guardián de las llaves - 0 menciones de PROTAGONISTA\n",
      "Capítulo 5: El callejón Diagon - 0 menciones de PROTAGONISTA\n",
      "Capítulo 6: El viaje desde el andén nueve y tres cuartos - 0 menciones de PROTAGONISTA\n",
      "Capítulo 7: El sombrero seleccionador - 0 menciones de PROTAGONISTA\n",
      "Capítulo 8: El profesor de pociones - 0 menciones de PROTAGONISTA\n",
      "Capítulo 9: El duelo a medianoche - 1 menciones de PROTAGONISTA\n",
      "Capítulo 10: Halloween - 0 menciones de PROTAGONISTA\n",
      "Capítulo 11: Quidditch - 1 menciones de PROTAGONISTA\n",
      "Capítulo 12: El espejo de Oesed - 0 menciones de PROTAGONISTA\n",
      "Capítulo 13: Nicolás Flamel - 0 menciones de PROTAGONISTA\n",
      "Capítulo 14: Norberto, el ridgeback noruego - 0 menciones de PROTAGONISTA\n",
      "Capítulo 15: El bosque prohibido - 0 menciones de PROTAGONISTA\n",
      "Capítulo 16: A través de la trampilla - 0 menciones de PROTAGONISTA\n",
      "Capítulo 17: El hombre con dos caras - 0 menciones de PROTAGONISTA\n"
     ]
    }
   ],
   "source": [
    "for cap in doc1._.capitulos:\n",
    "    num_protagonistas = contar_protagonistas(cap)\n",
    "    print(f\"Capítulo {cap._.numero}: {cap._.titulo} - {num_protagonistas} menciones de PROTAGONISTA\")\n"
   ]
  },
  {
   "cell_type": "code",
   "execution_count": 97,
   "metadata": {},
   "outputs": [
    {
     "name": "stdout",
     "output_type": "stream",
     "text": [
      "Capítulo 1: El peor cumpleaños - 0 menciones de PROTAGONISTA\n",
      "Capítulo 2: La advertencia de Dobby - 0 menciones de PROTAGONISTA\n",
      "Capítulo 3: La Madriguera - 0 menciones de PROTAGONISTA\n",
      "Capítulo 4: En Flourish y Blotts - 0 menciones de PROTAGONISTA\n",
      "Capítulo 5: El sauce boxeador - 0 menciones de PROTAGONISTA\n",
      "Capítulo 6: Gilderoy Lockhart - 0 menciones de PROTAGONISTA\n",
      "Capítulo 7: Los «sangre sucia» y una voz misteriosa - 0 menciones de PROTAGONISTA\n",
      "Capítulo 8: El cumpleaños de muerte - 0 menciones de PROTAGONISTA\n",
      "Capítulo 9: La inscripción en el muro - 0 menciones de PROTAGONISTA\n",
      "Capítulo 10: La «bludger» loca - 0 menciones de PROTAGONISTA\n",
      "Capítulo 11: El club de duelo - 0 menciones de PROTAGONISTA\n",
      "Capítulo 12: La poción «multijugos» - 0 menciones de PROTAGONISTA\n",
      "Capítulo 13: El diario secretísimo - 0 menciones de PROTAGONISTA\n",
      "Capítulo 14: Cornelius Fudge - 0 menciones de PROTAGONISTA\n",
      "Capítulo 15: Aragog - 0 menciones de PROTAGONISTA\n",
      "Capítulo 16: La Cámara de los Secretos - 0 menciones de PROTAGONISTA\n",
      "Capítulo 17: El heredero de Slytherin - 0 menciones de PROTAGONISTA\n",
      "Capítulo 18: La recompensa de Dobby - 0 menciones de PROTAGONISTA\n"
     ]
    }
   ],
   "source": [
    "for cap in doc2._.capitulos:\n",
    "    num_protagonistas = contar_protagonistas(cap)\n",
    "    print(f\"Capítulo {cap._.numero}: {cap._.titulo} - {num_protagonistas} menciones de PROTAGONISTA\")\n"
   ]
  },
  {
   "cell_type": "markdown",
   "metadata": {},
   "source": [
    "> apartado 6"
   ]
  },
  {
   "cell_type": "code",
   "execution_count": 98,
   "metadata": {},
   "outputs": [],
   "source": [
    "from collections import Counter\n",
    "\n",
    "# Contador para verbos que siguen a un PROTAGONISTA\n",
    "verbos_despues = Counter()\n",
    "\n",
    "# Recorremos todos los capítulos del documento\n",
    "for cap in doc1._.capitulos:\n",
    "    for i, token in enumerate(cap):\n",
    "        # Comprobar si el token actual es una entidad PROTAGONISTA\n",
    "        if token.ent_type_ == \"PROTAGONISTA\":\n",
    "            # Verificamos que hay un siguiente token\n",
    "            if i + 1 < len(cap):\n",
    "                siguiente = cap[i + 1] \n",
    "                if siguiente.pos_ == \"VERB\":\n",
    "                    verbos_despues[siguiente.lemma_] += 1  # Usamos el lema para agrupar correctamente\n"
   ]
  },
  {
   "cell_type": "code",
   "execution_count": 99,
   "metadata": {},
   "outputs": [
    {
     "name": "stdout",
     "output_type": "stream",
     "text": [
      "Verbos más frecuentes después de PROTAGONISTA:\n"
     ]
    }
   ],
   "source": [
    "print(\"Verbos más frecuentes después de PROTAGONISTA:\")\n",
    "for verbo, freq in verbos_despues.most_common(10):\n",
    "    print(f\"{verbo}: {freq}\")"
   ]
  },
  {
   "cell_type": "code",
   "execution_count": 100,
   "metadata": {},
   "outputs": [],
   "source": [
    "from collections import Counter\n",
    "\n",
    "# Contador para verbos que siguen a un PROTAGONISTA\n",
    "verbos_despues = Counter()\n",
    "\n",
    "# Recorremos todos los capítulos del documento\n",
    "for cap in doc2._.capitulos:\n",
    "    for i, token in enumerate(cap):\n",
    "        # Comprobar si el token actual es una entidad PROTAGONISTA\n",
    "        if token.ent_type_ == \"PROTAGONISTA\":\n",
    "            # Verificamos que hay un siguiente token\n",
    "            if i + 1 < len(cap):\n",
    "                siguiente = cap[i + 1] \n",
    "                if siguiente.pos_ == \"VERB\":\n",
    "                    verbos_despues[siguiente.lemma_] += 1  # Usamos el lema para agrupar correctamente"
   ]
  },
  {
   "cell_type": "code",
   "execution_count": 101,
   "metadata": {},
   "outputs": [
    {
     "name": "stdout",
     "output_type": "stream",
     "text": [
      "Verbos más frecuentes después de PROTAGONISTA:\n"
     ]
    }
   ],
   "source": [
    "print(\"Verbos más frecuentes después de PROTAGONISTA:\")\n",
    "for verbo, freq in verbos_despues.most_common(10):\n",
    "    print(f\"{verbo}: {freq}\")"
   ]
  }
 ],
 "metadata": {
  "kernelspec": {
   "display_name": ".venv",
   "language": "python",
   "name": "python3"
  },
  "language_info": {
   "codemirror_mode": {
    "name": "ipython",
    "version": 3
   },
   "file_extension": ".py",
   "mimetype": "text/x-python",
   "name": "python",
   "nbconvert_exporter": "python",
   "pygments_lexer": "ipython3",
   "version": "3.12.4"
  }
 },
 "nbformat": 4,
 "nbformat_minor": 2
}
